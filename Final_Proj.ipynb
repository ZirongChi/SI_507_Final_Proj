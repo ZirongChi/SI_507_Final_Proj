{
 "cells": [
  {
   "cell_type": "code",
   "execution_count": 14,
   "metadata": {},
   "outputs": [],
   "source": [
    "from requests_oauthlib import OAuth1\n",
    "import json\n",
    "import sys\n",
    "import os\n",
    "import requests\n",
    "import mysql.connector\n",
    "import time\n",
    "from lxml import etree\n",
    "import re\n",
    "#from lxml import etree\n",
    "#import re"
   ]
  },
  {
   "cell_type": "code",
   "execution_count": 13,
   "metadata": {},
   "outputs": [],
   "source": [
    "import nltk\n",
    "from nltk.corpus import stopwords"
   ]
  },
  {
   "cell_type": "code",
   "execution_count": 5,
   "metadata": {},
   "outputs": [],
   "source": [
    "import numpy as np\n",
    "import matplotlib.pyplot as plt\n",
    "import datetime"
   ]
  },
  {
   "cell_type": "code",
   "execution_count": 17,
   "metadata": {},
   "outputs": [],
   "source": [
    "mydb = mysql.connector.connect(\n",
    "  host=\"localhost\",user=\"root\",passwd=\"H9Xho5pMtOTvcQ9N\",database=\"bilibili\"\n",
    ")"
   ]
  },
  {
   "cell_type": "code",
   "execution_count": 37,
   "metadata": {},
   "outputs": [],
   "source": [
    "CACHE_FNAME = 'proj_cache.json'\n",
    "try:\n",
    "    cache_file = open(CACHE_FNAME, 'r')\n",
    "    cache_contents = cache_file.read()\n",
    "    CACHE_DICTION = json.loads(cache_contents)\n",
    "    cache_file.close()\n",
    "\n",
    "# if there was no file, no worries. There will be soon!\n",
    "except:\n",
    "    CACHE_DICTION = {}\n",
    "def make_request_using_cache(url,headers=None,params=None):\n",
    "    unique_ident = url\n",
    "    ## first, look in the cache to see if we already have this data\n",
    "    if unique_ident in CACHE_DICTION:\n",
    "        print(\"Getting cached data...\")\n",
    "        return CACHE_DICTION[unique_ident]\n",
    "    else:\n",
    "        print(\"Making a request for new data...\")\n",
    "        # Make the request and cache the new data\n",
    "        resp = requests.get(url,headers=headers,params=params)\n",
    "        CACHE_DICTION[unique_ident] = resp.text\n",
    "        dumped_json_cache = json.dumps(CACHE_DICTION)\n",
    "        fw = open(CACHE_FNAME, \"w\")\n",
    "        fw.write(dumped_json_cache)\n",
    "        fw.close()  # Close the open file\n",
    "        return CACHE_DICTION[unique_ident]"
   ]
  },
  {
   "cell_type": "code",
   "execution_count": 18,
   "metadata": {},
   "outputs": [],
   "source": [
    "mycursor = mydb.cursor()"
   ]
  },
  {
   "cell_type": "code",
   "execution_count": null,
   "metadata": {},
   "outputs": [],
   "source": [
    "def get_page(page):\n",
    "    try:\n",
    "        #这里要加上cookie\n",
    "        headers = {\n",
    "            'Cookie': 'LIVE_BUVID=AUTO5015218915110407; sid=4oag5i0u; fts=1521891539; pgv_pvi=3655305216; UM_distinctid=16257cdfffd2e4-032750a28294b2-3b60450b-100200-16257cdfffe2a0; buvid3=7B94813D-1039-4A88-A1EE-9AEFDF54BE05140244infoc; rpdid=kxsliqpkisdosikxllmww; CURRENT_QUALITY=80; finger=edc6ecda',\n",
    "            'Host': 'search.bilibili.com',\n",
    "            'Referer': 'https://www.bilibili.com/',\n",
    "            'Upgrade-Insecure-Requests': '1',\n",
    "            'User-Agent': 'Mozilla/5.0 (Windows NT 10.0; WOW64) AppleWebKit/537.36 (KHTML, like Gecko) Chrome/67.0.3396.99 Safari/537.36'\n",
    "        }\n",
    "        url = 'https://search.bilibili.com/all?keyword=python&from_source=banner_search&spm_id_from=333.334.banner_link.1&page={}'.format(str(page))\n",
    "        response = make_request_using_cache(url,headers=headers)\n",
    "        if response.status_code == 200:\n",
    "            return response.text\n",
    "    except Exception:\n",
    "        return None\n",
    "\n",
    "def xpath_parse_page(html):\n",
    "    data = etree.HTML(html)\n",
    "    items = data.xpath('//*[@class=\"video-contain clearfix\"]/li')\n",
    "    for item in items:\n",
    "        yield {\n",
    "        'video_image' : item.xpath('./a/div/div[1]/img/@src')[0],\n",
    "        'video_title' : item.xpath('./div/div[1]/a/text()')[0],\n",
    "        'video_view' : item.xpath('./div/div[3]/span[1]/text()')[0].strip(),\n",
    "        'video_updateTime' : item.xpath('./div/div[3]/span[3]/text()')[0].strip(),\n",
    "        'video_up' : item.xpath('./div/div[3]/span[4]/a/text()')[0]\n",
    "        }"
   ]
  },
  {
   "cell_type": "code",
   "execution_count": 19,
   "metadata": {},
   "outputs": [],
   "source": [
    "def fetch_rank():\n",
    "    baseurl = \"https://api.bilibili.com/x/web-interface/ranking/region\"\n",
    "    params = {\"jsonp\": \"jsonp\", \"rid\": 138,\"day\":7,\"original\":0}\n",
    "    response = make_request_using_cache(baseurl,params=params)\n",
    "    return response.json()"
   ]
  },
  {
   "cell_type": "code",
   "execution_count": 23,
   "metadata": {},
   "outputs": [],
   "source": [
    "def fetch_dynamic():\n",
    "    baseurl = \"https://api.bilibili.com/x/web-interface/dynamic/region\"\n",
    "    params = {\"jsonp\": \"jsonp\", \"rid\": 138,\"pn\":1,\"ps\":30}\n",
    "    response = make_request_using_cache(baseurl, params=params)\n",
    "    return response"
   ]
  },
  {
   "cell_type": "code",
   "execution_count": null,
   "metadata": {},
   "outputs": [],
   "source": [
    "def fetch_video_info(aid):\n",
    "    baseurl = \"https://api.bilibili.com/x/web-interface/archive/stat?aid=\"+aid\n",
    "    params = {\"jsonp\": \"jsonp\", \"rid\": 138,\"pn\":1,\"ps\":30}\n",
    "    response = make_request_using_cache(baseurl, params=params)\n",
    "    return response.json()"
   ]
  },
  {
   "cell_type": "code",
   "execution_count": 10,
   "metadata": {},
   "outputs": [],
   "source": [
    "def fetch_user(mid):\n",
    "    baseurl = \"http://api.bilibili.com/x/space/acc/info\"\n",
    "    params = {\"mid\": mid}\n",
    "    response = make_request_using_cache(baseurl, params=params)\n",
    "    return response.json()"
   ]
  },
  {
   "cell_type": "code",
   "execution_count": 11,
   "metadata": {},
   "outputs": [],
   "source": [
    "def fetch_user_fellow(vmid):\n",
    "    baseurl = \"https://api.bilibili.com/x/relation/stat?\"\n",
    "    params = {\"vmid\": vmid,\"jsonp\": \"jsonp\"}\n",
    "    response = make_request_using_cache(baseurl, params=params)\n",
    "    return response.json()"
   ]
  },
  {
   "cell_type": "code",
   "execution_count": 35,
   "metadata": {},
   "outputs": [],
   "source": [
    "def fetch_info_once(mycursor):\n",
    "    tempResult = fetch_dynamic()\n",
    "    #print(json.dumps(tempResult))\n",
    "    for i in json.loads(tempResult)['data']['archives']:\n",
    "        data_aid = i['aid']\n",
    "        data_tid = i['tid']\n",
    "        data_tname = i['tname']\n",
    "        data_pic = i['pic']\n",
    "        data_title = i['title']\n",
    "        data_pubdate = i['pubdate']\n",
    "        data_desc = i['desc']\n",
    "        data_mid = i['owner']['mid']\n",
    "        data_view = i['stat']['view']\n",
    "        data_danmaku = i['stat']['danmaku']\n",
    "        data_reply = i['stat']['reply']\n",
    "        data_favorite = i['stat']['favorite']\n",
    "        data_coin = i['stat']['coin']\n",
    "        data_share = i['stat']['share']\n",
    "        data_like = i['stat']['like']\n",
    "        data_bvid = i['bvid']\n",
    "        sql = \"SELECT * FROM data1 WHERE aid = %s\"\n",
    "        val = (data_aid,)\n",
    "        mycursor.execute(sql,val)\n",
    "        myresult = mycursor.fetchall()\n",
    "        if len(myresult)==0:\n",
    "            sql = \"INSERT INTO data1 (aid,title,pic,pubdate,miaoshu,mid,view,danmaku,\\\n",
    "reply,favorite,coin,share,dianzan,bvid,tid,tname)\\\n",
    "VALUES (%s,%s,%s,%s,%s,%s,%s,%s,%s,%s,%s,%s,%s,%s,%s,%s)\"\n",
    "            val = (data_aid, data_title,data_pic,data_pubdate,data_desc,data_mid,data_view,data_danmaku,\\\n",
    "           data_reply,data_favorite,data_coin,data_share,data_like,data_bvid,data_tid,data_tname)\n",
    "            mycursor.execute(sql, val)\n",
    "            mydb.commit()\n",
    "            #print(mycursor.rowcount, \"record inserted.\")\n",
    "   "
   ]
  },
  {
   "cell_type": "code",
   "execution_count": 38,
   "metadata": {},
   "outputs": [
    {
     "name": "stdout",
     "output_type": "stream",
     "text": [
      "Making a request for new data...\n",
      "fetch once\n",
      "Getting cached data...\n",
      "fetch once\n",
      "Getting cached data...\n",
      "fetch once\n",
      "Getting cached data...\n",
      "fetch once\n",
      "Getting cached data...\n",
      "fetch once\n",
      "Getting cached data...\n",
      "fetch once\n"
     ]
    }
   ],
   "source": [
    "count = 5\n",
    "while count>=0:\n",
    "    count = count-1\n",
    "    fetch_info_once(mycursor)\n",
    "    time.sleep(1)"
   ]
  },
  {
   "cell_type": "code",
   "execution_count": 73,
   "metadata": {},
   "outputs": [
    {
     "name": "stdout",
     "output_type": "stream",
     "text": [
      "fetch once\n",
      "fetch once\n",
      "fetch once\n",
      "fetch once\n",
      "fetch once\n",
      "fetch once\n",
      "fetch once\n",
      "fetch once\n",
      "fetch once\n",
      "fetch once\n",
      "fetch once\n",
      "fetch once\n",
      "fetch once\n",
      "fetch once\n",
      "fetch once\n",
      "fetch once\n",
      "fetch once\n",
      "fetch once\n",
      "fetch once\n",
      "fetch once\n",
      "fetch once\n",
      "fetch once\n",
      "fetch once\n",
      "fetch once\n",
      "fetch once\n",
      "fetch once\n",
      "fetch once\n",
      "fetch once\n",
      "fetch once\n",
      "fetch once\n",
      "fetch once\n",
      "fetch once\n",
      "fetch once\n",
      "fetch once\n",
      "fetch once\n",
      "fetch once\n",
      "fetch once\n",
      "fetch once\n",
      "fetch once\n",
      "fetch once\n",
      "fetch once\n",
      "fetch once\n",
      "fetch once\n",
      "fetch once\n",
      "fetch once\n",
      "fetch once\n",
      "fetch once\n",
      "fetch once\n",
      "fetch once\n",
      "fetch once\n",
      "fetch once\n",
      "fetch once\n",
      "fetch once\n",
      "fetch once\n",
      "fetch once\n",
      "fetch once\n",
      "fetch once\n",
      "fetch once\n",
      "fetch once\n",
      "fetch once\n",
      "fetch once\n",
      "fetch once\n",
      "fetch once\n",
      "fetch once\n",
      "fetch once\n",
      "fetch once\n",
      "fetch once\n",
      "fetch once\n",
      "fetch once\n",
      "fetch once\n",
      "fetch once\n",
      "fetch once\n",
      "fetch once\n",
      "fetch once\n",
      "fetch once\n",
      "fetch once\n",
      "fetch once\n",
      "fetch once\n",
      "fetch once\n",
      "fetch once\n",
      "fetch once\n",
      "fetch once\n",
      "fetch once\n",
      "fetch once\n",
      "fetch once\n",
      "fetch once\n",
      "fetch once\n",
      "fetch once\n",
      "fetch once\n",
      "fetch once\n",
      "fetch once\n",
      "fetch once\n",
      "fetch once\n",
      "fetch once\n",
      "fetch once\n",
      "fetch once\n",
      "fetch once\n",
      "fetch once\n",
      "fetch once\n",
      "fetch once\n",
      "fetch once\n"
     ]
    }
   ],
   "source": [
    "count = 100\n",
    "while count>=0:\n",
    "    count = count-1\n",
    "    fetch_info_once(mycursor)\n",
    "    time.sleep(25)"
   ]
  },
  {
   "cell_type": "code",
   "execution_count": 13,
   "metadata": {},
   "outputs": [
    {
     "name": "stdout",
     "output_type": "stream",
     "text": [
      "1 record inserted.\n"
     ]
    }
   ],
   "source": []
  },
  {
   "cell_type": "code",
   "execution_count": 37,
   "metadata": {},
   "outputs": [
    {
     "data": {
      "text/plain": [
       "0"
      ]
     },
     "execution_count": 37,
     "metadata": {},
     "output_type": "execute_result"
    }
   ],
   "source": []
  },
  {
   "cell_type": "code",
   "execution_count": 15,
   "metadata": {},
   "outputs": [
    {
     "name": "stdout",
     "output_type": "stream",
     "text": [
      "如果男人的标配是有车有房有存款，那女人的标配应该是什么呢？ ,mid: 449590290 ,播放： 608924 点赞 4440\n",
      "外国妹子入坑动漫后的变化... ,mid: 306477658 ,播放： 1334492 点赞 10195\n",
      "吊车尾参军那点事（四十八） ,mid: 95480382 ,播放： 30688 点赞 337\n",
      "【r1se】沙雕男团壶的大型蹦迪现场 ,mid: 12555036 ,播放： 21809 点赞 919\n",
      "都TM别颠了，醒了！醒了！ ,mid: 5957155 ,播放： 1565052 点赞 9374\n",
      "【不要笑死挑战！！！】现场整活了兄弟们 ,mid: 14946689 ,播放： 347596 点赞 4317\n",
      "【我是谁】？？？难度，猜中一个算我输 ,mid: 52973637 ,播放： 335068 点赞 3109\n",
      "千万不要跟声优斗表情包，否则你将毫无胜算【30】 ,mid: 7064298 ,播放： 432422 点赞 14788\n",
      "欧洲人学bilibili语？什么高端操作？4 ,mid: 406472610 ,播放： 98377 点赞 963\n",
      "【东北小朋友模仿英语老师合集】所以老师也是全国统一的吗 ,mid: 99027373 ,播放： 195854 点赞 3407\n",
      "【恶作剧】洗发水的故事II-这次直接上假血 ,mid: 94898339 ,播放： 781387 点赞 9580\n",
      "半佛仙人对大专好不好找工作等问答 ,mid: 369066047 ,播放： 1577 点赞 8\n",
      "【小缸和阿灿】百万up大比拼，为了赢，把小学糗事都说出来了 ,mid: 37961599 ,播放： 613046 点赞 9491\n",
      "【张氏心脑方】只需一副药，彻底死翘翘，吃完当天就见孝 ,mid: 394201823 ,播放： 781819 点赞 32659\n",
      "人工智能将会毁灭世界？~韩国神经配音【中字幕】韩国搞笑动画 ,mid: 221607275 ,播放： 15763 点赞 138\n",
      "自制战靴实战测评！ ,mid: 52982448 ,播放： 96587 点赞 829\n",
      "国内首个内置虞书欣语音包的人工智能 ,mid: 7189540 ,播放： 595632 点赞 23521\n",
      "【朱一旦】182 原来这就是传说中的猛男粉 ,mid: 437316738 ,播放： 1081727 点赞 5396\n",
      "我用100米锡纸造了个锡纸房来过夜！睡在里面一点都不冷！ ,mid: 456784297 ,播放： 365449 点赞 1866\n",
      "抄袭？侵权？小伙斥巨资试喝山寨茶颜悦色！结果居然！ ,mid: 16600303 ,播放： 41201 点赞 450\n",
      "不会真的是倒放吧 ,mid: 7560829 ,播放： 18233 点赞 38\n",
      "【花少北】花老师带你学英语 ,mid: 397649787 ,播放： 93989 点赞 4805\n",
      "新裤子 -《你要跳舞吗》 ,mid: 61202972 ,播放： 5767787 点赞 258696\n",
      "Doug Stanhope - No Refunds 精校版 ,mid: 39449692 ,播放： 16526 点赞 1498\n",
      "测测你的前世是个什么人？来吧来吧！！！ ,mid: 29400758 ,播放： 167147 点赞 933\n",
      "【爆笑】直男男友给我化欧美妆结果成了女装大佬？直男的死亡化妆品味！ ,mid: 7757942 ,播放： 5884 点赞 44\n",
      "【花园粑粑】再见了，玛格·巴子。 ,mid: 3040178 ,播放： 983106 点赞 64231\n",
      "角 度 及 其 刁 钻！！ ,mid: 13354765 ,播放： 487448 点赞 5393\n",
      "用吹糖人的方式做出了樱桃小丸子的手办！ ,mid: 395936853 ,播放： 350408 点赞 3547\n",
      "事实证明，我们并不讨厌广告 ,mid: 391780565 ,播放： 6628687 点赞 266353\n"
     ]
    }
   ],
   "source": [
    "for i in tempResult['data']['archives']:\n",
    "    print(i[\"title\"],\",mid:\",i['owner']['mid'],\",播放：\",i['stat']['view'],\"点赞\",i['stat']['favorite'])"
   ]
  }
 ],
 "metadata": {
  "kernelspec": {
   "display_name": "Python 3",
   "language": "python",
   "name": "python3"
  },
  "language_info": {
   "codemirror_mode": {
    "name": "ipython",
    "version": 3
   },
   "file_extension": ".py",
   "mimetype": "text/x-python",
   "name": "python",
   "nbconvert_exporter": "python",
   "pygments_lexer": "ipython3",
   "version": "3.6.8"
  }
 },
 "nbformat": 4,
 "nbformat_minor": 2
}
